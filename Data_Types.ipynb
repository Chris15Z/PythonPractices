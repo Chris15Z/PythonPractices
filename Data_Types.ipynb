{
 "cells": [
  {
   "cell_type": "markdown",
   "id": "9b13acd9-cde1-43f3-b0cd-5bbdfb9a9d05",
   "metadata": {},
   "source": [
    "Data Types"
   ]
  },
  {
   "cell_type": "markdown",
   "id": "bbbd15a0-0a46-492a-8813-337a39a0819c",
   "metadata": {},
   "source": [
    "Number Types"
   ]
  },
  {
   "cell_type": "code",
   "execution_count": 7,
   "id": "94eff16d-60db-48d6-83c4-c6fb1152ac5f",
   "metadata": {},
   "outputs": [
    {
     "data": {
      "text/plain": [
       "int"
      ]
     },
     "execution_count": 7,
     "metadata": {},
     "output_type": "execute_result"
    }
   ],
   "source": [
    "type (5+14)"
   ]
  },
  {
   "cell_type": "code",
   "execution_count": 9,
   "id": "33ecd468-05e9-4f30-b989-ce2c64101b16",
   "metadata": {},
   "outputs": [
    {
     "data": {
      "text/plain": [
       "float"
      ]
     },
     "execution_count": 9,
     "metadata": {},
     "output_type": "execute_result"
    }
   ],
   "source": [
    "type (12 + 5.8)"
   ]
  },
  {
   "cell_type": "code",
   "execution_count": 13,
   "id": "542e720e-bf72-4233-88a3-0be82804c26e",
   "metadata": {},
   "outputs": [
    {
     "data": {
      "text/plain": [
       "complex"
      ]
     },
     "execution_count": 13,
     "metadata": {},
     "output_type": "execute_result"
    }
   ],
   "source": [
    "type (3+4j)\n",
    "\n",
    "#j is the imaginary number, there is no other letter for that"
   ]
  },
  {
   "cell_type": "code",
   "execution_count": 15,
   "id": "d745f618-2102-4d70-8543-87b1b55db661",
   "metadata": {},
   "outputs": [
    {
     "data": {
      "text/plain": [
       "bool"
      ]
     },
     "execution_count": 15,
     "metadata": {},
     "output_type": "execute_result"
    }
   ],
   "source": [
    "#Boolean data types are tue or false\n",
    "\n",
    "type (5>10)"
   ]
  },
  {
   "cell_type": "code",
   "execution_count": 23,
   "id": "b8ed021e-82aa-43e7-91db-027c4d8506cd",
   "metadata": {},
   "outputs": [
    {
     "data": {
      "text/plain": [
       "False"
      ]
     },
     "execution_count": 23,
     "metadata": {},
     "output_type": "execute_result"
    }
   ],
   "source": [
    "5>10"
   ]
  },
  {
   "cell_type": "code",
   "execution_count": 25,
   "id": "a6e0ec14-a94b-47af-9165-0ce6ed5ce8e8",
   "metadata": {},
   "outputs": [
    {
     "data": {
      "text/plain": [
       "'Hello'"
      ]
     },
     "execution_count": 25,
     "metadata": {},
     "output_type": "execute_result"
    }
   ],
   "source": [
    "#Strings data types\n",
    "\n",
    "'Hello'"
   ]
  },
  {
   "cell_type": "code",
   "execution_count": 27,
   "id": "4bec638c-416d-469a-8907-84e0bd6353c0",
   "metadata": {},
   "outputs": [
    {
     "data": {
      "text/plain": [
       "'How are you'"
      ]
     },
     "execution_count": 27,
     "metadata": {},
     "output_type": "execute_result"
    }
   ],
   "source": [
    "\"How are you\""
   ]
  },
  {
   "cell_type": "code",
   "execution_count": 33,
   "id": "d651c62f-f247-42e7-9175-a58b840ef870",
   "metadata": {},
   "outputs": [
    {
     "name": "stdout",
     "output_type": "stream",
     "text": [
      "\n",
      "I like dogs,\n",
      "They are amazing,\n",
      "I love pupies\n",
      "\n"
     ]
    }
   ],
   "source": [
    "#For multiple lines\n",
    "\n",
    "multiline = \"\"\"\n",
    "I like dogs,\n",
    "They are amazing,\n",
    "I love pupies\n",
    "\"\"\"\n",
    "\n",
    "print (multiline)"
   ]
  },
  {
   "cell_type": "code",
   "execution_count": 39,
   "id": "8b8d18a6-6101-4b73-8340-5a35c8fce53d",
   "metadata": {},
   "outputs": [
    {
     "data": {
      "text/plain": [
       "\"Hello 'I love pupies'\""
      ]
     },
     "execution_count": 39,
     "metadata": {},
     "output_type": "execute_result"
    }
   ],
   "source": [
    "\"Hello 'I love pupies'\""
   ]
  },
  {
   "cell_type": "code",
   "execution_count": 41,
   "id": "827c72a4-d4d8-4621-8c20-04ff53f7e36d",
   "metadata": {},
   "outputs": [
    {
     "data": {
      "text/plain": [
       "str"
      ]
     },
     "execution_count": 41,
     "metadata": {},
     "output_type": "execute_result"
    }
   ],
   "source": [
    "type(multiline)"
   ]
  },
  {
   "cell_type": "code",
   "execution_count": 45,
   "id": "8608f8af-e861-41f9-bc82-47c8d25eef39",
   "metadata": {},
   "outputs": [],
   "source": [
    "a = 'Hello World!'"
   ]
  },
  {
   "cell_type": "code",
   "execution_count": 51,
   "id": "44fbfda3-cba6-43f4-9d2d-c836d61f1828",
   "metadata": {},
   "outputs": [
    {
     "name": "stdout",
     "output_type": "stream",
     "text": [
      "Hello\n"
     ]
    }
   ],
   "source": [
    "#This is going to give us a print of the string a starting form the zero position to the five position, the first position is 0 \n",
    "\n",
    "print(a[:5])"
   ]
  },
  {
   "cell_type": "code",
   "execution_count": 53,
   "id": "8773990e-7807-4458-acc3-3c7189fcfefa",
   "metadata": {},
   "outputs": [
    {
     "name": "stdout",
     "output_type": "stream",
     "text": [
      "o\n"
     ]
    }
   ],
   "source": [
    "#And this is going to give us position 4\n",
    "print(a[4])"
   ]
  },
  {
   "cell_type": "code",
   "execution_count": 55,
   "id": "332aac82-9498-45a3-a9e0-c19b5190422d",
   "metadata": {},
   "outputs": [
    {
     "name": "stdout",
     "output_type": "stream",
     "text": [
      "llo\n"
     ]
    }
   ],
   "source": [
    "print(a[2:5])"
   ]
  },
  {
   "cell_type": "code",
   "execution_count": 57,
   "id": "695145af-d5cc-4e72-8fd3-0ecf8629cadf",
   "metadata": {},
   "outputs": [
    {
     "data": {
      "text/plain": [
       "'Hello World!Hello World!Hello World!'"
      ]
     },
     "execution_count": 57,
     "metadata": {},
     "output_type": "execute_result"
    }
   ],
   "source": [
    "a * 3"
   ]
  },
  {
   "cell_type": "code",
   "execution_count": 61,
   "id": "3c721468-2c62-4ae8-9108-cf3cbc0d8c45",
   "metadata": {},
   "outputs": [
    {
     "data": {
      "text/plain": [
       "'Hello World! Hello World!'"
      ]
     },
     "execution_count": 61,
     "metadata": {},
     "output_type": "execute_result"
    }
   ],
   "source": [
    "a + ' ' + a"
   ]
  },
  {
   "cell_type": "code",
   "execution_count": 63,
   "id": "dd3aa40c-3fe3-43ed-9b33-84ea7631107e",
   "metadata": {},
   "outputs": [
    {
     "data": {
      "text/plain": [
       "[1, 2, 3]"
      ]
     },
     "execution_count": 63,
     "metadata": {},
     "output_type": "execute_result"
    }
   ],
   "source": [
    "#List\n",
    "\n",
    "[1,2,3]"
   ]
  },
  {
   "cell_type": "code",
   "execution_count": 67,
   "id": "7f8ff0de-5b24-43e9-aeda-8ff3e706a663",
   "metadata": {},
   "outputs": [
    {
     "data": {
      "text/plain": [
       "['Dogs', 'Cats', 1, 42, ['Pizza', True], 4, False]"
      ]
     },
     "execution_count": 67,
     "metadata": {},
     "output_type": "execute_result"
    }
   ],
   "source": [
    "['Dogs', 'Cats', 1, 42, ['Pizza', True], 4, False]"
   ]
  },
  {
   "cell_type": "code",
   "execution_count": 1,
   "id": "54a58e7a-f930-41ea-8299-675bc216e96c",
   "metadata": {},
   "outputs": [],
   "source": [
    "ice_cream = ['chocolate', 'vailla', 'coco']"
   ]
  },
  {
   "cell_type": "code",
   "execution_count": 7,
   "id": "e9f09059-27cd-40c2-8531-51b112c8766c",
   "metadata": {},
   "outputs": [
    {
     "data": {
      "text/plain": [
       "['Chocococo', 'vailla', 'coco']"
      ]
     },
     "execution_count": 7,
     "metadata": {},
     "output_type": "execute_result"
    }
   ],
   "source": [
    "ice_cream [0] = 'Chocococo'\n",
    "\n",
    "ice_cream"
   ]
  },
  {
   "cell_type": "code",
   "execution_count": 11,
   "id": "dac16b59-ccfa-419a-b8c1-223fcf6e8e92",
   "metadata": {},
   "outputs": [
    {
     "data": {
      "text/plain": [
       "'coco'"
      ]
     },
     "execution_count": 11,
     "metadata": {},
     "output_type": "execute_result"
    }
   ],
   "source": [
    "ice_cream [2]\n",
    "\n",
    "#This is a way to call the excat element in that position of the list"
   ]
  },
  {
   "cell_type": "code",
   "execution_count": 13,
   "id": "0fb3c40d-0571-410e-a8f0-1968b910cef0",
   "metadata": {},
   "outputs": [],
   "source": [
    "#Tuple is a list that can not be modified after being created\n",
    "\n",
    "tuple = (1,2,3,4,5,6,7)"
   ]
  },
  {
   "cell_type": "code",
   "execution_count": 15,
   "id": "35cfbba9-aa74-4dc7-b48a-475eba1b2946",
   "metadata": {},
   "outputs": [
    {
     "data": {
      "text/plain": [
       "tuple"
      ]
     },
     "execution_count": 15,
     "metadata": {},
     "output_type": "execute_result"
    }
   ],
   "source": [
    "type (tuple)"
   ]
  },
  {
   "cell_type": "code",
   "execution_count": 17,
   "id": "45e2f05d-2035-4529-926a-24cb2e90a7ad",
   "metadata": {},
   "outputs": [
    {
     "data": {
      "text/plain": [
       "3"
      ]
     },
     "execution_count": 17,
     "metadata": {},
     "output_type": "execute_result"
    }
   ],
   "source": [
    "tuple [2]"
   ]
  },
  {
   "cell_type": "code",
   "execution_count": 19,
   "id": "60ce0e48-acde-4e18-a520-e5ecff7019ed",
   "metadata": {},
   "outputs": [],
   "source": [
    "#Sets are like a list but they does not have an order, that implies that you can not call an object by the position\n",
    "\n",
    "Daily = {1,2,3}"
   ]
  },
  {
   "cell_type": "code",
   "execution_count": 21,
   "id": "14d0a64f-901d-4c83-a409-17e18047605b",
   "metadata": {},
   "outputs": [
    {
     "data": {
      "text/plain": [
       "set"
      ]
     },
     "execution_count": 21,
     "metadata": {},
     "output_type": "execute_result"
    }
   ],
   "source": [
    "type (Daily)"
   ]
  },
  {
   "cell_type": "code",
   "execution_count": 25,
   "id": "23a1ed3a-5537-44c1-b2ab-6e2860bbc368",
   "metadata": {},
   "outputs": [
    {
     "name": "stdout",
     "output_type": "stream",
     "text": [
      "{1, 2, 3}\n"
     ]
    }
   ],
   "source": [
    "print (Daily)"
   ]
  },
  {
   "cell_type": "code",
   "execution_count": 27,
   "id": "0710f071-2b11-4d1e-9651-b05c41e230a9",
   "metadata": {},
   "outputs": [],
   "source": [
    "Down = {3,4,7,9,21,12}"
   ]
  },
  {
   "cell_type": "code",
   "execution_count": 33,
   "id": "3dfb2dc2-8d62-4664-92d1-c00507366eba",
   "metadata": {},
   "outputs": [
    {
     "name": "stdout",
     "output_type": "stream",
     "text": [
      "{1, 2, 3, 4, 7, 9, 12, 21}\n"
     ]
    }
   ],
   "source": [
    "print (Daily | Down)\n",
    "\n",
    "#This is gonna show you the unique values between the two sets"
   ]
  },
  {
   "cell_type": "code",
   "execution_count": 35,
   "id": "25fe8c63-bff2-4a92-a990-3db243a451bf",
   "metadata": {},
   "outputs": [
    {
     "name": "stdout",
     "output_type": "stream",
     "text": [
      "{3}\n"
     ]
    }
   ],
   "source": [
    "print (Daily & Down)\n",
    "\n",
    "#This shows the match between the two sets"
   ]
  },
  {
   "cell_type": "code",
   "execution_count": 39,
   "id": "22370ef3-558e-44d8-8fb5-2277c76d058c",
   "metadata": {},
   "outputs": [
    {
     "name": "stdout",
     "output_type": "stream",
     "text": [
      "{1, 2}\n"
     ]
    }
   ],
   "source": [
    "print (Daily - Down)\n",
    "\n",
    "#This shows the rest of the numbers that  does not match between them"
   ]
  },
  {
   "cell_type": "code",
   "execution_count": 43,
   "id": "1e7d9414-ae1a-4c5c-b2c5-8d57a41c62db",
   "metadata": {},
   "outputs": [
    {
     "name": "stdout",
     "output_type": "stream",
     "text": [
      "{1, 2, 4, 21, 7, 9, 12}\n"
     ]
    }
   ],
   "source": [
    "print (Daily ^ Down)\n",
    "\n",
    "#This shows the unique values on the two sets"
   ]
  },
  {
   "cell_type": "code",
   "execution_count": 45,
   "id": "ad6542c1-c2ec-4b6b-bf59-d2d3f7065609",
   "metadata": {},
   "outputs": [],
   "source": [
    "#dictionaries\n",
    "# key/value key\n",
    "\n",
    "people = {'name': 'Alex', 'quantity': 5, 'favorite': ['Chocolate', 'Vanilla']}"
   ]
  },
  {
   "cell_type": "code",
   "execution_count": 47,
   "id": "901980b2-e877-48be-a30f-1221985d4715",
   "metadata": {},
   "outputs": [
    {
     "data": {
      "text/plain": [
       "dict_values(['Alex', 5, ['Chocolate', 'Vanilla']])"
      ]
     },
     "execution_count": 47,
     "metadata": {},
     "output_type": "execute_result"
    }
   ],
   "source": [
    "people.values()"
   ]
  },
  {
   "cell_type": "code",
   "execution_count": 49,
   "id": "d4441b68-8d5d-4394-a663-05bfb32d4b73",
   "metadata": {},
   "outputs": [
    {
     "data": {
      "text/plain": [
       "dict_keys(['name', 'quantity', 'favorite'])"
      ]
     },
     "execution_count": 49,
     "metadata": {},
     "output_type": "execute_result"
    }
   ],
   "source": [
    "people.keys()"
   ]
  },
  {
   "cell_type": "code",
   "execution_count": 51,
   "id": "fa98b9c6-cecf-489f-81b5-92a46ae5526d",
   "metadata": {},
   "outputs": [
    {
     "data": {
      "text/plain": [
       "dict_items([('name', 'Alex'), ('quantity', 5), ('favorite', ['Chocolate', 'Vanilla'])])"
      ]
     },
     "execution_count": 51,
     "metadata": {},
     "output_type": "execute_result"
    }
   ],
   "source": [
    "people.items()"
   ]
  },
  {
   "cell_type": "code",
   "execution_count": 53,
   "id": "667aaf1e-20e9-41ca-9770-93b996de86c2",
   "metadata": {},
   "outputs": [
    {
     "data": {
      "text/plain": [
       "'Alex'"
      ]
     },
     "execution_count": 53,
     "metadata": {},
     "output_type": "execute_result"
    }
   ],
   "source": [
    "people['name']"
   ]
  },
  {
   "cell_type": "code",
   "execution_count": 55,
   "id": "7f29a503-7e3e-4ada-87cb-92822c874f59",
   "metadata": {},
   "outputs": [
    {
     "name": "stdout",
     "output_type": "stream",
     "text": [
      "{'name': 'Carl', 'quantity': 5, 'favorite': ['Chocolate', 'Vanilla']}\n"
     ]
    }
   ],
   "source": [
    "people['name'] = 'Carl'\n",
    "\n",
    "print (people)"
   ]
  },
  {
   "cell_type": "code",
   "execution_count": null,
   "id": "bb50f91d-ef14-46cc-a59e-79d51058b2aa",
   "metadata": {},
   "outputs": [],
   "source": []
  }
 ],
 "metadata": {
  "kernelspec": {
   "display_name": "Python 3 (ipykernel)",
   "language": "python",
   "name": "python3"
  },
  "language_info": {
   "codemirror_mode": {
    "name": "ipython",
    "version": 3
   },
   "file_extension": ".py",
   "mimetype": "text/x-python",
   "name": "python",
   "nbconvert_exporter": "python",
   "pygments_lexer": "ipython3",
   "version": "3.12.4"
  }
 },
 "nbformat": 4,
 "nbformat_minor": 5
}
