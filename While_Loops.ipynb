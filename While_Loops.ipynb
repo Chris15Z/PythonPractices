{
 "cells": [
  {
   "cell_type": "markdown",
   "id": "44c559c6-cd3d-403c-92ee-4524733d8bf2",
   "metadata": {},
   "source": [
    "While Loops"
   ]
  },
  {
   "cell_type": "code",
   "execution_count": 8,
   "id": "82a7d2a8-bcd3-4b5a-b9f1-9440530d7285",
   "metadata": {},
   "outputs": [
    {
     "name": "stdout",
     "output_type": "stream",
     "text": [
      "0\n",
      "1\n",
      "2\n",
      "3\n",
      "4\n",
      "5\n"
     ]
    }
   ],
   "source": [
    "number = 0\n",
    "\n",
    "while number <= 5:\n",
    "    print(number)\n",
    "    number = number + 1"
   ]
  },
  {
   "cell_type": "code",
   "execution_count": 12,
   "id": "b2560b69-755b-4d9c-9787-ca4d80215cdc",
   "metadata": {},
   "outputs": [
    {
     "name": "stdout",
     "output_type": "stream",
     "text": [
      "-2\n",
      "-1\n",
      "0\n",
      "1\n",
      "2\n",
      "3\n",
      "4\n"
     ]
    }
   ],
   "source": [
    "number = -2\n",
    "\n",
    "while number <= 5:\n",
    "    print(number)\n",
    "    if number == 4:\n",
    "        break\n",
    "    number = number + 1"
   ]
  },
  {
   "cell_type": "code",
   "execution_count": 14,
   "id": "d2f1a14b-f1eb-4cb2-b5d8-985b9d577e2a",
   "metadata": {},
   "outputs": [
    {
     "name": "stdout",
     "output_type": "stream",
     "text": [
      "-2\n",
      "-1\n",
      "0\n",
      "1\n",
      "2\n",
      "3\n",
      "4\n",
      "5\n",
      "This is the end\n"
     ]
    }
   ],
   "source": [
    "# the else statement is going to be runned if the while is no longer true\n",
    "\n",
    "number = -2\n",
    "\n",
    "while number <= 5:\n",
    "    print(number)\n",
    "    if number == 7:\n",
    "        break\n",
    "    number = number + 1\n",
    "else:\n",
    "    print('This is the end')"
   ]
  },
  {
   "cell_type": "code",
   "execution_count": 16,
   "id": "e044e232-b087-4b06-97c9-6dde493ee44b",
   "metadata": {},
   "outputs": [
    {
     "name": "stdout",
     "output_type": "stream",
     "text": [
      "-1\n",
      "0\n",
      "1\n",
      "2\n",
      "4\n",
      "5\n",
      "6\n",
      "This is the end\n"
     ]
    }
   ],
   "source": [
    "number = -2\n",
    "\n",
    "while number <= 5:\n",
    "    number = number + 1\n",
    "    if number == 3:\n",
    "        continue\n",
    "    print(number)\n",
    "else:\n",
    "    print('This is the end')"
   ]
  },
  {
   "cell_type": "code",
   "execution_count": null,
   "id": "7aab1870-cfa7-420c-97d6-acafc707cd4d",
   "metadata": {},
   "outputs": [],
   "source": []
  }
 ],
 "metadata": {
  "kernelspec": {
   "display_name": "Python 3 (ipykernel)",
   "language": "python",
   "name": "python3"
  },
  "language_info": {
   "codemirror_mode": {
    "name": "ipython",
    "version": 3
   },
   "file_extension": ".py",
   "mimetype": "text/x-python",
   "name": "python",
   "nbconvert_exporter": "python",
   "pygments_lexer": "ipython3",
   "version": "3.12.4"
  }
 },
 "nbformat": 4,
 "nbformat_minor": 5
}
