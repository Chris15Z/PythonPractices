{
 "cells": [
  {
   "cell_type": "markdown",
   "id": "613c0410-df2f-4f78-899d-007505919200",
   "metadata": {},
   "source": [
    "BMI CALCULATOR (BODY MASS INDEX)"
   ]
  },
  {
   "cell_type": "code",
   "execution_count": 28,
   "id": "5a56f7d3-d3dc-49e6-a4e7-76462ceb535e",
   "metadata": {},
   "outputs": [
    {
     "name": "stdin",
     "output_type": "stream",
     "text": [
      "Please enter your name:  Chris\n",
      "Enter your weight in pounds:  560\n",
      "Enter your height in inches:  475\n"
     ]
    },
    {
     "name": "stdout",
     "output_type": "stream",
     "text": [
      "Your BMI is : 1.48\n",
      "ChrisYou are underweight.\n"
     ]
    }
   ],
   "source": [
    "name = (input('Please enter your name: '))\n",
    "\n",
    "weight = int(input('Enter your weight in pounds: '))\n",
    "\n",
    "height = int(input('Enter your height in inches: '))\n",
    "\n",
    "BMI = (weight * 703) / (height * weight)\n",
    "print ('Your BMI is :', BMI)\n",
    "\n",
    "if BMI > 0:\n",
    "    if (BMI < 18.5):\n",
    "        print(name + \"You are underweight.\")\n",
    "    elif (BMI <= 24.9):\n",
    "        print(name + \"You are normal weight.\")\n",
    "    elif (BMI <= 29.9):\n",
    "        print(name + \"You are overweight.\")\n",
    "    elif (BMI <= 34.9):\n",
    "        print(name + \"You are obese.\")\n",
    "    elif (BMI <= 39.9):\n",
    "        print(name + \"You are severely obese.\")\n",
    "    elif (BMI > 40):\n",
    "        print(name + \"You are morbidly obese.\")\n",
    "    else:\n",
    "        print(\"Enter valid inputs.\")\n"
   ]
  },
  {
   "cell_type": "code",
   "execution_count": null,
   "id": "495fe5a6-e4a9-48db-ada3-171becf69dab",
   "metadata": {},
   "outputs": [],
   "source": []
  }
 ],
 "metadata": {
  "kernelspec": {
   "display_name": "Python 3 (ipykernel)",
   "language": "python",
   "name": "python3"
  },
  "language_info": {
   "codemirror_mode": {
    "name": "ipython",
    "version": 3
   },
   "file_extension": ".py",
   "mimetype": "text/x-python",
   "name": "python",
   "nbconvert_exporter": "python",
   "pygments_lexer": "ipython3",
   "version": "3.12.4"
  }
 },
 "nbformat": 4,
 "nbformat_minor": 5
}
