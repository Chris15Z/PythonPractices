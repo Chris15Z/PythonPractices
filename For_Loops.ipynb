{
 "cells": [
  {
   "cell_type": "markdown",
   "id": "4262eaac-2ba7-4ef5-a64f-7e94d5da51cc",
   "metadata": {},
   "source": [
    "For Loops"
   ]
  },
  {
   "cell_type": "code",
   "execution_count": 2,
   "id": "691a12ac-dd20-4154-94f2-7171687a0f72",
   "metadata": {},
   "outputs": [],
   "source": [
    "integers = [1,2,3,4,5,6,7]"
   ]
  },
  {
   "cell_type": "code",
   "execution_count": 4,
   "id": "7f2f259c-bdc0-4cf5-bc42-79137a3822cd",
   "metadata": {},
   "outputs": [
    {
     "name": "stdout",
     "output_type": "stream",
     "text": [
      "1\n",
      "2\n",
      "3\n",
      "4\n",
      "5\n",
      "6\n",
      "7\n"
     ]
    }
   ],
   "source": [
    "for number in integers:\n",
    "    print(number)"
   ]
  },
  {
   "cell_type": "code",
   "execution_count": 8,
   "id": "59b3e471-1e89-49e7-a72e-37adc47c0152",
   "metadata": {},
   "outputs": [
    {
     "name": "stdout",
     "output_type": "stream",
     "text": [
      "yep!\n",
      "yep!\n",
      "yep!\n",
      "yep!\n",
      "yep!\n",
      "yep!\n",
      "yep!\n"
     ]
    }
   ],
   "source": [
    "for number in integers:\n",
    "    print('yep!')"
   ]
  },
  {
   "cell_type": "code",
   "execution_count": 12,
   "id": "65956984-f8e8-489f-8059-b2bd85e7325c",
   "metadata": {},
   "outputs": [
    {
     "name": "stdout",
     "output_type": "stream",
     "text": [
      "2\n",
      "4\n",
      "6\n",
      "8\n",
      "10\n",
      "12\n",
      "14\n"
     ]
    }
   ],
   "source": [
    "for valeria in integers:\n",
    "    print(valeria + valeria)\n",
    "\n",
    "# You can name the variable of the list with the name that you want and it will understand what are you trying to say"
   ]
  },
  {
   "cell_type": "code",
   "execution_count": 16,
   "id": "9b3b9aea-376a-4f0d-ba77-e815419ac5ae",
   "metadata": {},
   "outputs": [],
   "source": [
    "dictionary = {'name': 'Carl', 'job' : 'scientist', 'age': 54}"
   ]
  },
  {
   "cell_type": "code",
   "execution_count": 18,
   "id": "773a89cf-f36b-4f77-9a1c-18229744b5e9",
   "metadata": {},
   "outputs": [
    {
     "name": "stdout",
     "output_type": "stream",
     "text": [
      "name --> Carl\n",
      "job --> scientist\n",
      "age --> 54\n"
     ]
    }
   ],
   "source": [
    "for key, value in dictionary.items():\n",
    "    print(key, '-->', value)"
   ]
  },
  {
   "cell_type": "code",
   "execution_count": 20,
   "id": "8590e9f6-372d-4058-a8fa-19c90bcf27c2",
   "metadata": {},
   "outputs": [],
   "source": [
    "topping = ['coco', 'chocolate', 'cereal']\n",
    "flavor = ['lemon', 'strawberry', 'vailla']"
   ]
  },
  {
   "cell_type": "code",
   "execution_count": 24,
   "id": "35566b60-f207-4f0d-b9ac-0d9c8b2c3d11",
   "metadata": {},
   "outputs": [
    {
     "name": "stdout",
     "output_type": "stream",
     "text": [
      "lemon with coco\n",
      "strawberry with coco\n",
      "vailla with coco\n",
      "lemon with chocolate\n",
      "strawberry with chocolate\n",
      "vailla with chocolate\n",
      "lemon with cereal\n",
      "strawberry with cereal\n",
      "vailla with cereal\n"
     ]
    }
   ],
   "source": [
    "for one in topping:\n",
    "    for two in flavor:\n",
    "        print(two, 'with', one)"
   ]
  },
  {
   "cell_type": "code",
   "execution_count": null,
   "id": "9680852a-b2f7-4da9-b997-97607a3a29c8",
   "metadata": {},
   "outputs": [],
   "source": []
  }
 ],
 "metadata": {
  "kernelspec": {
   "display_name": "Python 3 (ipykernel)",
   "language": "python",
   "name": "python3"
  },
  "language_info": {
   "codemirror_mode": {
    "name": "ipython",
    "version": 3
   },
   "file_extension": ".py",
   "mimetype": "text/x-python",
   "name": "python",
   "nbconvert_exporter": "python",
   "pygments_lexer": "ipython3",
   "version": "3.12.4"
  }
 },
 "nbformat": 4,
 "nbformat_minor": 5
}
