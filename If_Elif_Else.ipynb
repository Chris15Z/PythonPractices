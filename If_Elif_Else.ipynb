{
 "cells": [
  {
   "cell_type": "markdown",
   "id": "53610f55-aa10-4ad9-8f9b-a68c118155ff",
   "metadata": {},
   "source": [
    "IF ELIF ELSE Statements"
   ]
  },
  {
   "cell_type": "code",
   "execution_count": 4,
   "id": "5333ea95-3ea7-4c00-8cc0-9dbde7378aec",
   "metadata": {},
   "outputs": [
    {
     "name": "stdout",
     "output_type": "stream",
     "text": [
      "I am the best\n"
     ]
    }
   ],
   "source": [
    "if 25 > 5:\n",
    "    print('I am the best')\n",
    "else:\n",
    "    print('I need to review this')"
   ]
  },
  {
   "cell_type": "code",
   "execution_count": 6,
   "id": "562b5b46-13cf-425a-92c0-89ada14ea25b",
   "metadata": {},
   "outputs": [
    {
     "name": "stdout",
     "output_type": "stream",
     "text": [
      "It is working\n"
     ]
    }
   ],
   "source": [
    "if 25 > 100:\n",
    "    print('I am the best')\n",
    "elif 25 > 15:\n",
    "    print('It is working')\n",
    "else:\n",
    "    print('I need to review this')"
   ]
  },
  {
   "cell_type": "code",
   "execution_count": 10,
   "id": "8297a446-17d8-4956-8a40-ca17a86d67cd",
   "metadata": {},
   "outputs": [
    {
     "name": "stdout",
     "output_type": "stream",
     "text": [
      "It is co-working\n",
      "Oh yeah\n"
     ]
    }
   ],
   "source": [
    "if (25 > 100) and (800 > 4):\n",
    "    print('I am the best')\n",
    "elif (25 > 15) and (8 < 2):\n",
    "    print('It is working')\n",
    "elif (25 > 15) or (5 < 3):\n",
    "    print('It is co-working')\n",
    "    if 5 == 5:\n",
    "        print('Oh yeah')\n",
    "elif 25 > 15:\n",
    "    print('This is possible')\n",
    "else:\n",
    "    print('I need to review this')"
   ]
  },
  {
   "cell_type": "code",
   "execution_count": null,
   "id": "83a9e7fc-da59-4977-bd5b-5b7c65cce5b3",
   "metadata": {},
   "outputs": [],
   "source": []
  }
 ],
 "metadata": {
  "kernelspec": {
   "display_name": "Python 3 (ipykernel)",
   "language": "python",
   "name": "python3"
  },
  "language_info": {
   "codemirror_mode": {
    "name": "ipython",
    "version": 3
   },
   "file_extension": ".py",
   "mimetype": "text/x-python",
   "name": "python",
   "nbconvert_exporter": "python",
   "pygments_lexer": "ipython3",
   "version": "3.12.4"
  }
 },
 "nbformat": 4,
 "nbformat_minor": 5
}
