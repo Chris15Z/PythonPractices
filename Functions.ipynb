{
 "cells": [
  {
   "cell_type": "markdown",
   "id": "fc025315-a975-459b-982a-89cb3416dfa4",
   "metadata": {},
   "source": [
    "Functions"
   ]
  },
  {
   "cell_type": "code",
   "execution_count": 2,
   "id": "42de1a55-ffd6-4099-8ca5-da1eea834df5",
   "metadata": {},
   "outputs": [],
   "source": [
    "def firstone():\n",
    "    print('This is a function')"
   ]
  },
  {
   "cell_type": "code",
   "execution_count": 4,
   "id": "811eb5b9-093b-42d9-aea5-16a89fe6bbeb",
   "metadata": {},
   "outputs": [
    {
     "name": "stdout",
     "output_type": "stream",
     "text": [
      "This is a function\n"
     ]
    }
   ],
   "source": [
    "firstone()"
   ]
  },
  {
   "cell_type": "code",
   "execution_count": 6,
   "id": "c3f1dc63-c22f-455e-a5a5-ad8b1f5f1c6c",
   "metadata": {},
   "outputs": [],
   "source": [
    "def number_squared(number):\n",
    "    print(number**2)"
   ]
  },
  {
   "cell_type": "code",
   "execution_count": 8,
   "id": "5c046cbb-9212-4a2d-b01d-e5a21092b7e4",
   "metadata": {},
   "outputs": [
    {
     "name": "stdout",
     "output_type": "stream",
     "text": [
      "25\n"
     ]
    }
   ],
   "source": [
    "number_squared(5)"
   ]
  },
  {
   "cell_type": "code",
   "execution_count": 10,
   "id": "38a40071-48fa-436e-aa64-b7ac04997613",
   "metadata": {},
   "outputs": [],
   "source": [
    "def number_squared_cust(number,power):\n",
    "    print(number**power)"
   ]
  },
  {
   "cell_type": "code",
   "execution_count": 12,
   "id": "e8eaa11c-5f32-4272-9a00-d7f148fae4f0",
   "metadata": {},
   "outputs": [
    {
     "name": "stdout",
     "output_type": "stream",
     "text": [
      "3125\n"
     ]
    }
   ],
   "source": [
    "number_squared_cust(5,5)"
   ]
  },
  {
   "cell_type": "code",
   "execution_count": 14,
   "id": "49fedefc-de45-42f0-887d-da185e8ad006",
   "metadata": {},
   "outputs": [],
   "source": [
    "# For the cases in we dont know how many arguments the function will use the we wirte *variable\n",
    "\n",
    "def number_args(*number):\n",
    "    print(number[0]*number[1])"
   ]
  },
  {
   "cell_type": "code",
   "execution_count": 18,
   "id": "c114477c-0709-4a9b-b0c5-41e415f7c1b3",
   "metadata": {},
   "outputs": [
    {
     "name": "stdout",
     "output_type": "stream",
     "text": [
      "20\n"
     ]
    }
   ],
   "source": [
    "number_args(5,4,3,2,1)\n",
    "\n",
    "#This multiplies the first one with the second one"
   ]
  },
  {
   "cell_type": "code",
   "execution_count": 20,
   "id": "da22a688-a3b9-4591-a83e-a4da19603416",
   "metadata": {},
   "outputs": [
    {
     "name": "stdout",
     "output_type": "stream",
     "text": [
      "2\n"
     ]
    }
   ],
   "source": [
    "#You also can create a variable with the information but you need to specify the * before use it\n",
    "\n",
    "args = (1,2,3,4,5)\n",
    "\n",
    "number_args(*args)"
   ]
  },
  {
   "cell_type": "code",
   "execution_count": 22,
   "id": "73e07618-766a-4d28-856d-ccdc3c7d06eb",
   "metadata": {},
   "outputs": [
    {
     "name": "stdout",
     "output_type": "stream",
     "text": [
      "9\n"
     ]
    }
   ],
   "source": [
    "#you dont necessary need to put the arguments in the exact position if you just specify what are they\n",
    "\n",
    "number_squared_cust(power = 2 , number = 3)"
   ]
  },
  {
   "cell_type": "code",
   "execution_count": null,
   "id": "ced15fbd-d6ff-4f6d-a9fb-40d27770c30c",
   "metadata": {},
   "outputs": [],
   "source": []
  }
 ],
 "metadata": {
  "kernelspec": {
   "display_name": "Python 3 (ipykernel)",
   "language": "python",
   "name": "python3"
  },
  "language_info": {
   "codemirror_mode": {
    "name": "ipython",
    "version": 3
   },
   "file_extension": ".py",
   "mimetype": "text/x-python",
   "name": "python",
   "nbconvert_exporter": "python",
   "pygments_lexer": "ipython3",
   "version": "3.12.4"
  }
 },
 "nbformat": 4,
 "nbformat_minor": 5
}
