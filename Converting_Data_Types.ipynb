{
 "cells": [
  {
   "cell_type": "markdown",
   "id": "ccc44657-e2d0-4689-be76-dfca5adca4b3",
   "metadata": {},
   "source": [
    "Converting Data Types"
   ]
  },
  {
   "cell_type": "code",
   "execution_count": 2,
   "id": "26b19144-b888-4d33-a907-09f0ec47fcd9",
   "metadata": {},
   "outputs": [
    {
     "data": {
      "text/plain": [
       "int"
      ]
     },
     "execution_count": 2,
     "metadata": {},
     "output_type": "execute_result"
    }
   ],
   "source": [
    "a = 7\n",
    "\n",
    "type (a)"
   ]
  },
  {
   "cell_type": "code",
   "execution_count": 4,
   "id": "4bb654f2-dace-4a69-bbef-816e55e23ae2",
   "metadata": {},
   "outputs": [
    {
     "data": {
      "text/plain": [
       "str"
      ]
     },
     "execution_count": 4,
     "metadata": {},
     "output_type": "execute_result"
    }
   ],
   "source": [
    "b = 'Hello World'\n",
    "\n",
    "type(b)"
   ]
  },
  {
   "cell_type": "code",
   "execution_count": 6,
   "id": "4866c860-1339-43bd-83c4-b7cff6ab3b3d",
   "metadata": {},
   "outputs": [
    {
     "data": {
      "text/plain": [
       "str"
      ]
     },
     "execution_count": 6,
     "metadata": {},
     "output_type": "execute_result"
    }
   ],
   "source": [
    "c = '75'\n",
    "\n",
    "type (c)"
   ]
  },
  {
   "cell_type": "code",
   "execution_count": 8,
   "id": "3b63d231-1ce7-4a1b-b867-b6b8fd62fe93",
   "metadata": {},
   "outputs": [],
   "source": [
    "c_conv = int(c)"
   ]
  },
  {
   "cell_type": "code",
   "execution_count": 10,
   "id": "ba6aebe8-babb-4222-b964-83462ba15bcf",
   "metadata": {},
   "outputs": [
    {
     "data": {
      "text/plain": [
       "82"
      ]
     },
     "execution_count": 10,
     "metadata": {},
     "output_type": "execute_result"
    }
   ],
   "source": [
    "a+ c_conv"
   ]
  },
  {
   "cell_type": "code",
   "execution_count": 51,
   "id": "c0046446-7fcf-48de-a05d-b59902631780",
   "metadata": {},
   "outputs": [
    {
     "data": {
      "text/plain": [
       "list"
      ]
     },
     "execution_count": 51,
     "metadata": {},
     "output_type": "execute_result"
    }
   ],
   "source": [
    "list_one = [1,2,3]\n",
    "\n",
    "type (list)"
   ]
  },
  {
   "cell_type": "code",
   "execution_count": 53,
   "id": "134d3faf-708f-49b1-bcfe-9da593cb0e12",
   "metadata": {},
   "outputs": [
    {
     "data": {
      "text/plain": [
       "tuple"
      ]
     },
     "execution_count": 53,
     "metadata": {},
     "output_type": "execute_result"
    }
   ],
   "source": [
    "type(tuple(list_one))"
   ]
  },
  {
   "cell_type": "code",
   "execution_count": 55,
   "id": "030ac631-98ad-4e60-92e6-9fd60c12ca7d",
   "metadata": {},
   "outputs": [],
   "source": [
    "secondlist = [1,2,3,2,3,2,3,5,3,7]"
   ]
  },
  {
   "cell_type": "code",
   "execution_count": 57,
   "id": "9f4e9b19-6505-45de-881f-98adc6823d47",
   "metadata": {},
   "outputs": [
    {
     "data": {
      "text/plain": [
       "{1, 2, 3, 5, 7}"
      ]
     },
     "execution_count": 57,
     "metadata": {},
     "output_type": "execute_result"
    }
   ],
   "source": [
    "set(secondlist)\n",
    "\n",
    "#a set is going to take the unique values of the list and convert it to a set"
   ]
  },
  {
   "cell_type": "code",
   "execution_count": 59,
   "id": "1231696e-edd1-4bac-9ba4-e0b9aca710e9",
   "metadata": {},
   "outputs": [
    {
     "data": {
      "text/plain": [
       "dict"
      ]
     },
     "execution_count": 59,
     "metadata": {},
     "output_type": "execute_result"
    }
   ],
   "source": [
    "dictionary = {'name' : 'Carl', 'job' : 'scientist', 'age': '54'}\n",
    "\n",
    "type (dictionary)"
   ]
  },
  {
   "cell_type": "code",
   "execution_count": 61,
   "id": "fa63e10d-1aff-41ab-b8a4-8ffcf321b7de",
   "metadata": {},
   "outputs": [
    {
     "data": {
      "text/plain": [
       "dict_items([('name', 'Carl'), ('job', 'scientist'), ('age', '54')])"
      ]
     },
     "execution_count": 61,
     "metadata": {},
     "output_type": "execute_result"
    }
   ],
   "source": [
    "dictionary.items()"
   ]
  },
  {
   "cell_type": "code",
   "execution_count": 63,
   "id": "ce8ef4ec-6ad3-4437-9b03-076aa80210bc",
   "metadata": {},
   "outputs": [
    {
     "data": {
      "text/plain": [
       "dict_values(['Carl', 'scientist', '54'])"
      ]
     },
     "execution_count": 63,
     "metadata": {},
     "output_type": "execute_result"
    }
   ],
   "source": [
    "dictionary.values()"
   ]
  },
  {
   "cell_type": "code",
   "execution_count": 65,
   "id": "9673cad4-4cd2-41f3-9a41-ab23fa946ee9",
   "metadata": {},
   "outputs": [
    {
     "data": {
      "text/plain": [
       "dict_keys(['name', 'job', 'age'])"
      ]
     },
     "execution_count": 65,
     "metadata": {},
     "output_type": "execute_result"
    }
   ],
   "source": [
    "dictionary.keys()"
   ]
  },
  {
   "cell_type": "code",
   "execution_count": 73,
   "id": "a1ea6c3c-f2a7-41fa-98e5-85f48661f686",
   "metadata": {},
   "outputs": [
    {
     "name": "stdout",
     "output_type": "stream",
     "text": [
      "[1, 2, 3]\n"
     ]
    }
   ],
   "source": [
    "long_string = 'I like videogames'\n",
    "\n",
    "print (list)\n",
    "\n",
    "#the problem is I called list a list and then when I want to transform one data into a list with list(variable) I cant because it\n",
    "# Thinks that i referred to the variable I made"
   ]
  },
  {
   "cell_type": "code",
   "execution_count": 75,
   "id": "a2172890-8f19-4415-8336-cbc5aafe17ff",
   "metadata": {},
   "outputs": [
    {
     "data": {
      "text/plain": [
       "{' ', 'I', 'a', 'd', 'e', 'g', 'i', 'k', 'l', 'm', 'o', 's', 'v'}"
      ]
     },
     "execution_count": 75,
     "metadata": {},
     "output_type": "execute_result"
    }
   ],
   "source": [
    "set (long_string)"
   ]
  },
  {
   "cell_type": "code",
   "execution_count": null,
   "id": "cfd2e1a5-e36a-4d52-b998-73b0f73a7e3b",
   "metadata": {},
   "outputs": [],
   "source": []
  }
 ],
 "metadata": {
  "kernelspec": {
   "display_name": "Python 3 (ipykernel)",
   "language": "python",
   "name": "python3"
  },
  "language_info": {
   "codemirror_mode": {
    "name": "ipython",
    "version": 3
   },
   "file_extension": ".py",
   "mimetype": "text/x-python",
   "name": "python",
   "nbconvert_exporter": "python",
   "pygments_lexer": "ipython3",
   "version": "3.12.4"
  }
 },
 "nbformat": 4,
 "nbformat_minor": 5
}
