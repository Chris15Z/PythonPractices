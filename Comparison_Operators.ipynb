{
 "cells": [
  {
   "cell_type": "markdown",
   "id": "2c71e01f-3455-4c1f-a31b-a0cee4fb4468",
   "metadata": {},
   "source": [
    "Comparison Operators"
   ]
  },
  {
   "cell_type": "code",
   "execution_count": 2,
   "id": "60ecca3d-62dc-4f3f-b3f8-8f10b5de6407",
   "metadata": {},
   "outputs": [],
   "source": [
    "# == means equal and != means different"
   ]
  },
  {
   "cell_type": "code",
   "execution_count": 4,
   "id": "8ba145f3-4193-49b7-b59e-3a80b4a69408",
   "metadata": {},
   "outputs": [
    {
     "data": {
      "text/plain": [
       "True"
      ]
     },
     "execution_count": 4,
     "metadata": {},
     "output_type": "execute_result"
    }
   ],
   "source": [
    "10 == 10"
   ]
  },
  {
   "cell_type": "code",
   "execution_count": 6,
   "id": "2e0ec6fd-4225-448a-8936-656caf44a488",
   "metadata": {},
   "outputs": [
    {
     "data": {
      "text/plain": [
       "False"
      ]
     },
     "execution_count": 6,
     "metadata": {},
     "output_type": "execute_result"
    }
   ],
   "source": [
    "12 != 12"
   ]
  },
  {
   "cell_type": "code",
   "execution_count": 8,
   "id": "67505a9d-dbb4-4ff0-b414-14fe7e550258",
   "metadata": {},
   "outputs": [
    {
     "data": {
      "text/plain": [
       "True"
      ]
     },
     "execution_count": 8,
     "metadata": {},
     "output_type": "execute_result"
    }
   ],
   "source": [
    "15 != 7"
   ]
  },
  {
   "cell_type": "code",
   "execution_count": 10,
   "id": "9c7d82ea-ee20-4d6f-b239-d32730fcd3ca",
   "metadata": {},
   "outputs": [
    {
     "data": {
      "text/plain": [
       "True"
      ]
     },
     "execution_count": 10,
     "metadata": {},
     "output_type": "execute_result"
    }
   ],
   "source": [
    "x = 'coco'\n",
    "y = 'vanilla'\n",
    "\n",
    "x != y"
   ]
  },
  {
   "cell_type": "code",
   "execution_count": 12,
   "id": "a6e492f2-3395-483d-b05d-a545ee7262ff",
   "metadata": {},
   "outputs": [
    {
     "data": {
      "text/plain": [
       "True"
      ]
     },
     "execution_count": 12,
     "metadata": {},
     "output_type": "execute_result"
    }
   ],
   "source": [
    "10 <= 18"
   ]
  },
  {
   "cell_type": "code",
   "execution_count": 14,
   "id": "754dcb5c-1622-4b97-976d-629037752e81",
   "metadata": {},
   "outputs": [],
   "source": [
    "# Logical Operators\n",
    "\n",
    "# AND OR NOT"
   ]
  },
  {
   "cell_type": "code",
   "execution_count": 16,
   "id": "f2cfd82f-4232-4c0e-981a-51e9976cd323",
   "metadata": {},
   "outputs": [
    {
     "data": {
      "text/plain": [
       "True"
      ]
     },
     "execution_count": 16,
     "metadata": {},
     "output_type": "execute_result"
    }
   ],
   "source": [
    "(50 > 20) and (75 < 100)"
   ]
  },
  {
   "cell_type": "code",
   "execution_count": 18,
   "id": "621ed512-de48-47eb-989b-4816c4371697",
   "metadata": {},
   "outputs": [
    {
     "data": {
      "text/plain": [
       "True"
      ]
     },
     "execution_count": 18,
     "metadata": {},
     "output_type": "execute_result"
    }
   ],
   "source": [
    "(50 > 20) or (75 > 100)"
   ]
  },
  {
   "cell_type": "code",
   "execution_count": 22,
   "id": "cdfe2624-fd34-4126-85a3-f797562e548a",
   "metadata": {},
   "outputs": [
    {
     "data": {
      "text/plain": [
       "True"
      ]
     },
     "execution_count": 22,
     "metadata": {},
     "output_type": "execute_result"
    }
   ],
   "source": [
    "('Vanilla' > 'Coco') or (75 > 100)\n",
    "\n",
    "#This is true because V is in a position on the alphabet greater than C "
   ]
  },
  {
   "cell_type": "code",
   "execution_count": 24,
   "id": "f6324fe0-1b41-452a-83eb-10909eda3b19",
   "metadata": {},
   "outputs": [
    {
     "data": {
      "text/plain": [
       "False"
      ]
     },
     "execution_count": 24,
     "metadata": {},
     "output_type": "execute_result"
    }
   ],
   "source": [
    "# Not make a reverse on the answer, if it is true then return false\n",
    "\n",
    "not (50 > 20)"
   ]
  },
  {
   "cell_type": "code",
   "execution_count": 26,
   "id": "3ed9f505-f732-4a3f-a613-7ec4fb1c08f7",
   "metadata": {},
   "outputs": [
    {
     "data": {
      "text/plain": [
       "False"
      ]
     },
     "execution_count": 26,
     "metadata": {},
     "output_type": "execute_result"
    }
   ],
   "source": [
    "# Membership operators are In and Not In to know if the thing is in the thing that we are looking for\n",
    "\n",
    "ice_cream = 'I love chocolate and vanilla ice cream'\n",
    "\n",
    "'coco' in ice_cream"
   ]
  },
  {
   "cell_type": "code",
   "execution_count": 32,
   "id": "60d2a4b7-dea7-4c25-8082-1bf86e123c32",
   "metadata": {},
   "outputs": [
    {
     "data": {
      "text/plain": [
       "True"
      ]
     },
     "execution_count": 32,
     "metadata": {},
     "output_type": "execute_result"
    }
   ],
   "source": [
    "list = [2,4,6,8,10]\n",
    "\n",
    "4 in list\n",
    "\n",
    "7 not in list"
   ]
  },
  {
   "cell_type": "code",
   "execution_count": null,
   "id": "d1ef3d2e-8c8a-48fb-8b9f-23a892773f59",
   "metadata": {},
   "outputs": [],
   "source": []
  }
 ],
 "metadata": {
  "kernelspec": {
   "display_name": "Python 3 (ipykernel)",
   "language": "python",
   "name": "python3"
  },
  "language_info": {
   "codemirror_mode": {
    "name": "ipython",
    "version": 3
   },
   "file_extension": ".py",
   "mimetype": "text/x-python",
   "name": "python",
   "nbconvert_exporter": "python",
   "pygments_lexer": "ipython3",
   "version": "3.12.4"
  }
 },
 "nbformat": 4,
 "nbformat_minor": 5
}
