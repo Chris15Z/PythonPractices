{
 "cells": [
  {
   "cell_type": "markdown",
   "id": "314002fd-8b22-444e-990b-a59f1ee55496",
   "metadata": {},
   "source": [
    "Variables in Python"
   ]
  },
  {
   "cell_type": "code",
   "execution_count": 4,
   "id": "2fa5c929-9891-4f7a-8739-a3f66115abd7",
   "metadata": {},
   "outputs": [
    {
     "name": "stdout",
     "output_type": "stream",
     "text": [
      "25\n"
     ]
    }
   ],
   "source": [
    "x = 25\n",
    "\n",
    "print(x)"
   ]
  },
  {
   "cell_type": "code",
   "execution_count": 6,
   "id": "2d5b4f8d-616e-497c-a7b2-c347ae8a5774",
   "metadata": {},
   "outputs": [
    {
     "name": "stdout",
     "output_type": "stream",
     "text": [
      "Mint chocolate chip\n"
     ]
    }
   ],
   "source": [
    "y = 'Mint chocolate chip'\n",
    "\n",
    "print(y)"
   ]
  },
  {
   "cell_type": "code",
   "execution_count": 8,
   "id": "ecd6fcff-bece-4109-85f7-2a8b3b0349a4",
   "metadata": {},
   "outputs": [
    {
     "data": {
      "text/plain": [
       "str"
      ]
     },
     "execution_count": 8,
     "metadata": {},
     "output_type": "execute_result"
    }
   ],
   "source": [
    "type(y)"
   ]
  },
  {
   "cell_type": "code",
   "execution_count": 1,
   "id": "0ced52a4-4402-442c-aa08-64dec2a2e57d",
   "metadata": {},
   "outputs": [
    {
     "name": "stdout",
     "output_type": "stream",
     "text": [
      "300\n"
     ]
    }
   ],
   "source": [
    "x = 200\n",
    "\n",
    "X = 300\n",
    "\n",
    "print (X)"
   ]
  },
  {
   "cell_type": "code",
   "execution_count": 5,
   "id": "2ac21916-00bb-472d-8271-baff04123ab0",
   "metadata": {},
   "outputs": [
    {
     "name": "stdout",
     "output_type": "stream",
     "text": [
      "chocolate\n",
      "vainilla\n",
      "mantecado\n"
     ]
    }
   ],
   "source": [
    "x,y,z = 'chocolate', 'vainilla', 'mantecado'\n",
    "\n",
    "print (x)\n",
    "print (y)\n",
    "print (z)"
   ]
  },
  {
   "cell_type": "code",
   "execution_count": 7,
   "id": "83b94d53-5a23-48dc-bb1a-3808586c0512",
   "metadata": {},
   "outputs": [
    {
     "name": "stdout",
     "output_type": "stream",
     "text": [
      "Bienvenido ingeniero\n",
      "Bienvenido ingeniero\n",
      "Bienvenido ingeniero\n"
     ]
    }
   ],
   "source": [
    "x = y = z = 'Bienvenido ingeniero'\n",
    "\n",
    "print (x)\n",
    "print (y)\n",
    "print (z)"
   ]
  },
  {
   "cell_type": "code",
   "execution_count": 9,
   "id": "7a0d54e6-789e-45a3-9604-7c6e7d3ac059",
   "metadata": {},
   "outputs": [
    {
     "name": "stdout",
     "output_type": "stream",
     "text": [
      "Chocolate\n",
      "Strawberry\n",
      "Vanilla\n",
      "Coco\n"
     ]
    }
   ],
   "source": [
    "ice_cream = ['Chocolate', 'Strawberry', 'Vanilla', 'Coco']\n",
    "\n",
    "a,b,c,d = ice_cream\n",
    "\n",
    "print (a)\n",
    "print (b)\n",
    "print (c)\n",
    "print (d)"
   ]
  },
  {
   "cell_type": "code",
   "execution_count": null,
   "id": "7e139cdc-d4d9-4812-aa75-5ff929aa8143",
   "metadata": {},
   "outputs": [],
   "source": [
    "#These are the best practices to write variables"
   ]
  },
  {
   "cell_type": "code",
   "execution_count": 11,
   "id": "60019224-f58c-4aaa-acd8-649cd84752cf",
   "metadata": {},
   "outputs": [],
   "source": [
    "#Camel Case\n",
    "\n",
    "#Test variable case\n",
    "\n",
    "testVariableCase = 'Vanilla Swirl'"
   ]
  },
  {
   "cell_type": "code",
   "execution_count": 13,
   "id": "acc31143-3896-46d9-87b0-6473c1c3098f",
   "metadata": {},
   "outputs": [],
   "source": [
    "#Pascal Case\n",
    "\n",
    "#Test variable case\n",
    "\n",
    "TestVariableCase = 'Vanilla Swirl'"
   ]
  },
  {
   "cell_type": "code",
   "execution_count": 15,
   "id": "a18ec0b3-17d7-4c44-9407-3f08aa3db248",
   "metadata": {},
   "outputs": [],
   "source": [
    "#Snake Case\n",
    "\n",
    "#Test variable case\n",
    "\n",
    "test_variable_case = 'Vanilla Swirl'"
   ]
  },
  {
   "cell_type": "code",
   "execution_count": 17,
   "id": "0f9c226f-0d2d-4314-ac35-b3f47b7237d4",
   "metadata": {},
   "outputs": [
    {
     "name": "stdout",
     "output_type": "stream",
     "text": [
      "ice cream is my favorite.\n"
     ]
    }
   ],
   "source": [
    "x = 'ice cream is my favorite' + '.'\n",
    "\n",
    "print (x)"
   ]
  },
  {
   "cell_type": "code",
   "execution_count": 21,
   "id": "6508d1ba-8e52-42aa-991f-8e38a6f9ea06",
   "metadata": {},
   "outputs": [
    {
     "name": "stdout",
     "output_type": "stream",
     "text": [
      "GTA is awesome\n"
     ]
    }
   ],
   "source": [
    "f = 'GTA'\n",
    "g = 'is'\n",
    "h = 'awesome'\n",
    "\n",
    "print (f + ' ' + g + ' ' + h )"
   ]
  },
  {
   "cell_type": "code",
   "execution_count": 25,
   "id": "c3a7ba6c-919b-4b39-afce-2eaa920e9d12",
   "metadata": {},
   "outputs": [
    {
     "name": "stdout",
     "output_type": "stream",
     "text": [
      "ice cream 5\n"
     ]
    }
   ],
   "source": [
    "#You can combine an integer and a string usig , \n",
    "\n",
    "v = 'ice cream'\n",
    "b = 5\n",
    "\n",
    "print(v,b)"
   ]
  }
 ],
 "metadata": {
  "kernelspec": {
   "display_name": "Python 3 (ipykernel)",
   "language": "python",
   "name": "python3"
  },
  "language_info": {
   "codemirror_mode": {
    "name": "ipython",
    "version": 3
   },
   "file_extension": ".py",
   "mimetype": "text/x-python",
   "name": "python",
   "nbconvert_exporter": "python",
   "pygments_lexer": "ipython3",
   "version": "3.12.4"
  }
 },
 "nbformat": 4,
 "nbformat_minor": 5
}
